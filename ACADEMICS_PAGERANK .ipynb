{
 "cells": [
  {
   "cell_type": "code",
   "execution_count": 1,
   "metadata": {
    "collapsed": true
   },
   "outputs": [],
   "source": [
    "INPUT     = \"/Users/Kai-Wen Lee/Dropbox/_BDATAR/3.ACADEMICS/DATA/MIAMIDADE/\"\n",
    "OUTPUT    = \"/Users/Kai-Wen Lee/Dropbox/_BDATAR/1.PROJECTS/_WORK/\"\n",
    "RTYPE     = \"UNDIRECTED\"\n",
    "DATESTAMP = 20220206\n",
    "COUNTY    = \"MIAMIDADE\"\n",
    "ZIPCODES = []         # Select this if you want to run analysis for entire county - all zipcodes will be selected\n",
    "ZIPCODES  = [\"33160\"]#,\"33161\",\"33162\"]\n",
    "\n",
    "STARTDATE = 20210101\n",
    "ENDDTATE  = 20211231\n",
    "TRXTYPE   = [\"RE1\",\"RE2\",\"RIN\"] # For residentail Properties\n",
    "\n",
    "COUNTYDATA = INPUT + '/COUNTY/COUNTY_MIAMIDADE.hdf5'\n",
    "MLS_DATA   = INPUT + '/MLS/MLS_' + str(DATESTAMP) + '_MIAMIDADE_BAKED.hdf5'\n",
    "MLS_LLIFE  = INPUT + '/MLS/MLS_' + str(DATESTAMP) + '_MIAMIDADE_LLIFE.hdf5'"
   ]
  },
  {
   "cell_type": "code",
   "execution_count": 2,
   "metadata": {
    "pycharm": {
     "name": "#%% Define Libraries\n"
    }
   },
   "outputs": [],
   "source": [
    "import pandas     as pd\n",
    "import numpy      as np\n",
    "import datetime   as dt\n",
    "import h5py\n",
    "import os\n",
    "import tables\n",
    "\n",
    "def OutToWork(WorkPath, FileName,   OutFile1, SheetName1,\n",
    "                                    OutFile2=None, SheetName2=None,\n",
    "                                    OutFile3=None, SheetName3=None,\n",
    "                                    OutFile4=None, SheetName4=None,\n",
    "                                    OutFile5=None, SheetName5=None,\n",
    "                                    OutFile6=None, SheetName6=None,\n",
    "                                    OutFile7=None, SheetName7=None,\n",
    "                                    OutFile8=None, SheetName8=None,\n",
    "                                    OutFile9=None, SheetName9=None,\n",
    "                                    OutFile0=None, SheetName0=None):\n",
    "\n",
    "    TimeStamp = str(dt.datetime.now())[:19].replace(\"-\",\"\").replace(\":\",\"\").replace(\" \",\"\")\n",
    "\n",
    "    with pd.ExcelWriter(WorkPath + FileName + \"_\" + TimeStamp + '.xlsx', engine='xlsxwriter') as writer:\n",
    "        OutFile1.to_excel(writer, sheet_name=SheetName1, index=False, header=True)\n",
    "        if ( not (SheetName2 is None)): OutFile2.to_excel(writer, sheet_name=SheetName2, index=False, header=True)\n",
    "        if ( not (SheetName3 is None)): OutFile3.to_excel(writer, sheet_name=SheetName3, index=False, header=True)\n",
    "        if ( not (SheetName4 is None)): OutFile4.to_excel(writer, sheet_name=SheetName4, index=False, header=True)\n",
    "        if ( not (SheetName5 is None)): OutFile5.to_excel(writer, sheet_name=SheetName5, index=False, header=True)\n",
    "        if ( not (SheetName6 is None)): OutFile6.to_excel(writer, sheet_name=SheetName6, index=False, header=True)\n",
    "        if ( not (SheetName7 is None)): OutFile7.to_excel(writer, sheet_name=SheetName7, index=False, header=True)\n",
    "        if ( not (SheetName8 is None)): OutFile8.to_excel(writer, sheet_name=SheetName8, index=False, header=True)\n",
    "        if ( not (SheetName9 is None)): OutFile9.to_excel(writer, sheet_name=SheetName9, index=False, header=True)\n",
    "        if ( not (SheetName0 is None)): OutFile0.to_excel(writer, sheet_name=SheetName0, index=False, header=True)\n",
    "\n",
    "    return(1)"
   ]
  },
  {
   "cell_type": "code",
   "execution_count": 3,
   "metadata": {
    "pycharm": {
     "name": "#%%     Create Zipcode List as all conuty zipcodes if List is empty ([])\n"
    }
   },
   "outputs": [],
   "source": [
    "if (len(ZIPCODES)==0):\n",
    "    KEYS = sorted(set(h5py.File(COUNTYDATA,'r').keys()))\n",
    "    for KEY in KEYS:\n",
    "        if (len(KEY)==6): ZIPCODES.append(KEY[1:])\n",
    "\n",
    "ZIPCODES = list(set(ZIPCODES))  # Remove Duplicates from the List"
   ]
  },
  {
   "cell_type": "code",
   "execution_count": 4,
   "metadata": {
    "pycharm": {
     "name": "#%%     Read County Data & MLS Data for all specified zipcodes\n"
    }
   },
   "outputs": [
    {
     "name": "stdout",
     "output_type": "stream",
     "text": [
      "  ZIPCODE= 33160  #Parcels: 30560  #Props: 53377  #Lists: 82856  #RShips: 115599  #LLife: 1222944\n",
      "TOTALS:           #Parcels: 30560  #Props: 53377  #Lists: 82856  #RShips: 115599  #LLife: 1222944\n"
     ]
    }
   ],
   "source": [
    "for ZIPCODE in ZIPCODES:\n",
    "\n",
    "    STEP0_COUNTY_ADD= pd.read_hdf(COUNTYDATA,\"Z\" + ZIPCODE)\n",
    "    STEP0_PROPS_ADD = pd.read_hdf(MLS_DATA ,COUNTY + \"_\" + str(ZIPCODE) + \"_PROPS_\" + str(DATESTAMP))\n",
    "    STEP0_LISTS_ADD = pd.read_hdf(MLS_DATA ,COUNTY + \"_\" + str(ZIPCODE) + \"_LISTS_\" + str(DATESTAMP))\n",
    "    STEP0_RSHIP_ADD = pd.read_hdf(MLS_DATA ,COUNTY + \"_\" + str(ZIPCODE) + \"_RSHIP_\" + str(DATESTAMP))\n",
    "    STEP0_LLIFE_ADD = pd.read_hdf(MLS_LLIFE,COUNTY + \"_\" + str(ZIPCODE) + \"_LLIFE_\" + str(DATESTAMP))\n",
    "\n",
    "    print(\"  ZIPCODE=\",ZIPCODE, \" #Parcels:\", STEP0_COUNTY_ADD.shape[0], \" #Props:\" , STEP0_PROPS_ADD.shape[0],\n",
    "                                 \" #Lists:\" , STEP0_LISTS_ADD.shape[0] , \" #RShips:\", STEP0_RSHIP_ADD.shape[0],\n",
    "                                 \" #LLife:\" , STEP0_LLIFE_ADD.shape[0])\n",
    "\n",
    "    if ZIPCODE == ZIPCODES[0]:\n",
    "        STEP0_COUNTY= STEP0_COUNTY_ADD.copy()\n",
    "        STEP0_PROPS = STEP0_PROPS_ADD.copy()\n",
    "        STEP0_LISTS = STEP0_LISTS_ADD.copy()\n",
    "        STEP0_RSHIP = STEP0_RSHIP_ADD.copy()\n",
    "        STEP0_LLIFE = STEP0_LLIFE_ADD.copy()\n",
    "    else:\n",
    "        STEP0_COUNTY= STEP0_COUNTY.append(STEP0_COUNTY_ADD)\n",
    "        STEP0_PROPS = STEP0_PROPS.append(STEP0_PROPS_ADD)\n",
    "        STEP0_LISTS = STEP0_LISTS.append(STEP0_LISTS_ADD)\n",
    "        STEP0_RSHIP = STEP0_RSHIP.append(STEP0_RSHIP_ADD)\n",
    "        STEP0_LLIFE = STEP0_LLIFE.append(STEP0_LLIFE_ADD)\n",
    "\n",
    "print(\"TOTALS:         \", \" #Parcels:\", STEP0_COUNTY.shape[0], \" #Props:\" , STEP0_PROPS.shape[0],\n",
    "                          \" #Lists:\"  , STEP0_LISTS.shape[0] , \" #RShips:\", STEP0_RSHIP.shape[0],\n",
    "                          \" #LLife:\"  , STEP0_LLIFE.shape[0])"
   ]
  },
  {
   "cell_type": "code",
   "execution_count": 5,
   "metadata": {
    "pycharm": {
     "name": "#%%\n"
    }
   },
   "outputs": [],
   "source": [
    "if (False): OutToWork(OUTPUT,\"REANALYTICS_\",STEP0_COUNTY, \"COUNTY\",\n",
    "                                            STEP0_PROPS ,'MLS_PROPERTIES',\n",
    "                                            STEP0_LISTS ,'MLS_LISTINGS',\n",
    "                                            STEP0_RSHIP ,'MLS_RSHIPS')\n",
    "#                                            ,STEP0_LLIFE ,'MLS_LLIFE')"
   ]
  },
  {
   "cell_type": "code",
   "execution_count": 6,
   "metadata": {
    "pycharm": {
     "name": "#%%\n"
    }
   },
   "outputs": [],
   "source": [
    "STEP1_LISTS = STEP0_LISTS[STEP0_LISTS[\"ENDDT\"]==99999999]\n",
    "STEP1_LISTS = STEP1_LISTS[STEP1_LISTS[\"PROPTYPE\"].isin(TRXTYPE)]\n",
    "STEP1_LISTS = STEP1_LISTS[(STEP1_LISTS[\"CLOSE_DT\"]>=STARTDATE) & (STEP1_LISTS[\"CLOSE_DT\"]<=ENDDTATE)]"
   ]
  },
  {
   "cell_type": "code",
   "execution_count": 7,
   "metadata": {
    "pycharm": {
     "name": "#%%\n"
    }
   },
   "outputs": [],
   "source": [
    "STEP1_RSHIP = STEP0_RSHIP[STEP0_RSHIP[\"ENDDT\"]==99999999]\n",
    "STEP1_RSHIP = STEP1_RSHIP[STEP1_RSHIP[\"MLSID\"].isin(STEP1_LISTS[\"MLSID\"])]"
   ]
  },
  {
   "cell_type": "code",
   "execution_count": 8,
   "metadata": {
    "pycharm": {
     "name": "#%%\n"
    }
   },
   "outputs": [],
   "source": [
    "STEP1_AGENTS = STEP1_RSHIP[[\"AGT_ID\",\"AGT_NAME\",\"BRK_ID\",\"BRK_NAME\",\"START\"]].sort_values(by=\"START\")\n",
    "STEP1_AGENTS = STEP1_AGENTS.drop_duplicates(subset=[\"AGT_ID\"], keep=\"last\").drop(columns={\"START\"})"
   ]
  },
  {
   "cell_type": "code",
   "execution_count": 9,
   "metadata": {
    "pycharm": {
     "name": "#%%\n"
    }
   },
   "outputs": [],
   "source": [
    "STEP1_LINKS = STEP1_RSHIP[[\"AGT_ID\",\"RELTYPE\",\"MLSID\"]].copy()\n",
    "STEP1_LINKS[\"REPRESENT\"]=np.where(STEP1_LINKS[\"RELTYPE\"].isin({\"LP\", \"LC\"}),\"SELLER\",\"BUYER\")\n",
    "STEP1_LINKS = STEP1_LINKS.drop(columns=\"RELTYPE\")\n"
   ]
  },
  {
   "cell_type": "code",
   "execution_count": 10,
   "metadata": {
    "pycharm": {
     "name": "#%%\n"
    }
   },
   "outputs": [],
   "source": [
    "STEP1_GRAPH = STEP1_LINKS[STEP1_LINKS[\"REPRESENT\"]==\"SELLER\"].rename(columns={\"AGT_ID\":\"AGT_OUT\"})\\\n",
    "    .merge(STEP1_LINKS[STEP1_LINKS[\"REPRESENT\"]==\"BUYER\"].rename(columns={\"AGT_ID\":\"AGT_IN\"}),on=\"MLSID\", how=\"inner\")\\\n",
    "    [[\"MLSID\",\"AGT_OUT\",\"AGT_IN\"]]\n",
    "\n",
    "if (RTYPE==\"UNDIRECTED\"):\n",
    "    STEP1_GRAPH = STEP1_GRAPH.append(STEP1_GRAPH.rename(columns={\"AGT_IN\":\"AGT_OUT\",\"AGT_OUT\":\"AGT_IN\"}))\n",
    "\n",
    "STEP1_GRAPH[\"WLINK\"] = 1\n",
    "\n",
    "STEP1_OUTLINKSUM = STEP1_GRAPH.groupby([\"AGT_OUT\"]).aggregate({\"WLINK\":\"sum\"}).rename(columns={\"WLINK\":\"WOUTSUM\"}).reset_index()\n",
    "STEP1_GRAPH = STEP1_GRAPH.merge(STEP1_OUTLINKSUM, on=\"AGT_OUT\")\n"
   ]
  },
  {
   "cell_type": "code",
   "execution_count": 24,
   "metadata": {
    "pycharm": {
     "name": "#%%\n"
    }
   },
   "outputs": [],
   "source": [
    "def PG_MANUAL(INPUT_AGENTS,INPUT_GRAPH,D,NSTEPS):\n",
    "\n",
    "    AGENTS = INPUT_AGENTS[[\"AGT_ID\"]].drop_duplicates()\n",
    "    GRAPH  = INPUT_GRAPH[[\"AGT_OUT\",\"WOUTSUM\",\"AGT_IN\",\"WLINK\"]]\n",
    "\n",
    "    NAGENTS = AGENTS.shape[0]\n",
    "\n",
    "    AGENTS[\"WEIGHT\"]   = 1 / NAGENTS\n",
    "    AGENTS[\"STEP\"]     = 0\n",
    "    AGENTS[\"TRANSFER\"] = 0\n",
    "\n",
    "    for i in range(NSTEPS):\n",
    "\n",
    "        NEXTSTEP = AGENTS[AGENTS[\"STEP\"]==i].rename(columns={\"AGT_ID\":\"AGT_OUT\"}).merge(GRAPH, on=\"AGT_OUT\")\n",
    "        NEXTSTEP[\"TRANSFER\"] = NEXTSTEP[\"WEIGHT\"]/NEXTSTEP[\"WOUTSUM\"]\n",
    "        AGENTS_NEXT = NEXTSTEP.groupby([\"AGT_IN\"]).aggregate({\"TRANSFER\":\"sum\"}).reset_index().rename(columns={\"AGT_IN\":\"AGT_ID\"})\n",
    "        AGENTS_NEXT = AGENTS_NEXT.merge(AGENTS[AGENTS[\"STEP\"]==i][[\"AGT_ID\",\"WEIGHT\"]], on=\"AGT_ID\",how=\"outer\")\n",
    "        AGENTS_NEXT = AGENTS_NEXT.rename(columns={\"WEIGHT\":\"OLDWEIGHT\"})\n",
    "        AGENTS_NEXT[\"STEP\"]    = i+1\n",
    "        AGENTS_NEXT[\"WEIGHT\"]  = D*(AGENTS_NEXT[\"TRANSFER\"]) + (1 - D) / NAGENTS\n",
    "        AGENTS_NEXT[\"ABSDIFF\"] = abs(AGENTS_NEXT[\"WEIGHT\"] - AGENTS_NEXT[\"OLDWEIGHT\"])\n",
    "        AGENTS_NEXT[\"R_ABSDIFF\"] = AGENTS_NEXT[\"ABSDIFF\"]/(AGENTS_NEXT[\"OLDWEIGHT\"])\n",
    "\n",
    "        if (i % 10 == 0):\n",
    "            print(\"Itteration #\",i, AGENTS_NEXT[\"ABSDIFF\"].mean(), AGENTS_NEXT[\"R_ABSDIFF\"].mean())\n",
    "        AGENTS_NEXT = AGENTS_NEXT.drop(columns = {\"OLDWEIGHT\"})\n",
    "        AGENTS = AGENTS.append(AGENTS_NEXT)\n",
    "\n",
    "    return AGENTS\n",
    "\n",
    "def CONVERT_HZ(INPUT_AGENTS,INPUT_AGENTS_PR):\n",
    "\n",
    "    AGENTS_HZ = INPUT_AGENTS_PR[INPUT_AGENTS_PR[\"STEP\"]==0][[\"AGT_ID\",\"WEIGHT\"]].rename(columns={\"WEIGHT\":\"W0\"})\n",
    "    AGENTS_HZ = INPUT_AGENTS.merge(AGENTS_HZ, on=\"AGT_ID\", how=\"outer\")\n",
    "\n",
    "    for i in range(INPUT_AGENTS_PR[\"STEP\"].max()):\n",
    "        AGENTS_HZ = AGENTS_HZ.merge(INPUT_AGENTS_PR[INPUT_AGENTS_PR[\"STEP\"]==i+1], on=\"AGT_ID\")\\\n",
    "            .rename(columns={\"WEIGHT\":\"W\"+str(i+1)}).drop(columns={\"STEP\",\"TRANSFER\",\"ABSDIFF\",\"R_ABSDIFF\"})\n",
    "\n",
    "    return AGENTS_HZ"
   ]
  },
  {
   "cell_type": "code",
   "execution_count": 25,
   "metadata": {
    "pycharm": {
     "name": "#%%\n"
    }
   },
   "outputs": [
    {
     "name": "stdout",
     "output_type": "stream",
     "text": [
      "Itteration # 0 0.0002053996440247932 0.5944265698077524\n",
      "Itteration # 10 9.164881829399794e-06 0.026467214177684127\n",
      "Itteration # 20 1.3528857790633163e-06 0.0039014478508146103\n",
      "Itteration # 30 2.3092342678576562e-07 0.0006638137507356748\n",
      "Itteration # 40 4.209424322083607e-08 0.00012076670979038727\n",
      "Itteration # 50 7.926349091035741e-09 2.271288443260529e-05\n",
      "Itteration # 60 1.518369595682548e-09 4.34802772243685e-06\n",
      "Itteration # 70 2.9367369819880343e-10 8.406559351901144e-07\n",
      "Itteration # 80 5.71208418601453e-11 1.6347699232846095e-07\n",
      "Itteration # 90 1.1148974094105176e-11 3.1903454952641515e-08\n"
     ]
    }
   ],
   "source": [
    "NSTEPS = 100\n",
    "D      = 0.85\n",
    "\n",
    "STEP2_AGENTS    = PG_MANUAL(STEP1_AGENTS,STEP1_GRAPH,D,NSTEPS)"
   ]
  },
  {
   "cell_type": "code",
   "execution_count": 26,
   "metadata": {
    "pycharm": {
     "name": "#%%\n"
    }
   },
   "outputs": [
    {
     "data": {
      "text/plain": [
       "1"
      ]
     },
     "execution_count": 26,
     "metadata": {},
     "output_type": "execute_result"
    }
   ],
   "source": [
    "STEP2_AGENTS_HZ = CONVERT_HZ(STEP1_AGENTS,STEP2_AGENTS)\n",
    "STEP2_AGENTS_HZ[\"W_FINAL\"]=STEP2_AGENTS_HZ[\"W\"+str(NSTEPS)]\n",
    "\n",
    "STEP2_PARAMETERS = {'PARAMETERS':[\"GRAPH\",\"COUNTY\",\"ZIPCODES\",\"Trx Type\",\"DFactor\",\"NSTEPS\"],\n",
    "                    'VALUES'    :[RTYPE,COUNTY,ZIPCODES,TRXTYPE,D,NSTEPS]}\n",
    "STEP2_PARAMETERS = pd.DataFrame(STEP2_PARAMETERS,columns= ['PARAMETERS','VALUES',\"ABSDIFF\"])\n",
    "\n",
    "\n",
    "\n",
    "OutToWork(OUTPUT,\"PAGERANK_RUN\",    STEP2_PARAMETERS,\"PARAMETERS\",\n",
    "                                    STEP2_AGENTS    ,\"ITTERATIONS\",\n",
    "                                    STEP2_AGENTS_HZ ,'HZ FILES')"
   ]
  },
  {
   "cell_type": "code",
   "execution_count": null,
   "metadata": {
    "pycharm": {
     "name": "#%%\n"
    }
   },
   "outputs": [],
   "source": []
  }
 ],
 "metadata": {
  "kernelspec": {
   "display_name": "PyCharm (BDATAR)",
   "language": "python",
   "name": "pycharm-50117480"
  },
  "language_info": {
   "codemirror_mode": {
    "name": "ipython",
    "version": 2
   },
   "file_extension": ".py",
   "mimetype": "text/x-python",
   "name": "python",
   "nbconvert_exporter": "python",
   "pygments_lexer": "ipython2",
   "version": "2.7.6"
  }
 },
 "nbformat": 4,
 "nbformat_minor": 1
}
